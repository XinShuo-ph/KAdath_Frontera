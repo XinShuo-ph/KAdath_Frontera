{
 "cells": [
  {
   "cell_type": "code",
   "execution_count": null,
   "id": "a308082f",
   "metadata": {},
   "outputs": [],
   "source": [
    "import numpy as np, pickle, sys, matplotlib as mpl, pickle, os\n",
    "import matplotlib.pyplot as plt, matplotlib.colors as colors\n",
    "from matplotlib import ticker, cm\n",
    "\n",
    "FUKA_path = os.getenv('HOME')+'/lib/fuka'\n",
    "pyFUKA_path = FUKA_path+'/codes/PythonTools'\n",
    "pyFUKA_libspath = pyFUKA_path+'/lib/'\n",
    "sys.path.append(pyFUKA_libspath)\n",
    "os.environ[\"HOME_KADATH)\"] = FUKA_path\n",
    "%env HOME_KADATH=$FUKA_path"
   ]
  },
  {
   "cell_type": "code",
   "execution_count": null,
   "id": "adf7bd55",
   "metadata": {},
   "outputs": [],
   "source": [
    "from fuka_plot_tools.setup_utils import get_reader"
   ]
  },
  {
   "cell_type": "code",
   "execution_count": null,
   "id": "85da7827",
   "metadata": {},
   "outputs": [],
   "source": [
    "initial_data_path=pyFUKA_path+'/Example_id/converged_NS_TOTAL_BC.togashi.2.23.-0.4.0.11.dat'\n",
    "if os.path.isfile(initial_data_path) == True:\n",
    "    reader = get_reader(initial_data_path, ns=True)\n",
    "else:\n",
    "    print(\"{} not found\",initial_data_path)"
   ]
  },
  {
   "cell_type": "code",
   "execution_count": null,
   "id": "5d683404",
   "metadata": {},
   "outputs": [],
   "source": [
    "for v in reader.vars:\n",
    "    if 'Kadath' in type(reader.vars[v]).__name__:\n",
    "        print(\"{:10}: {}\".format(v, reader.vars[v]))"
   ]
  },
  {
   "cell_type": "code",
   "execution_count": null,
   "id": "ce1db7a7",
   "metadata": {},
   "outputs": [],
   "source": [
    "y1, y2 = [0, 5]\n",
    "npts = 256\n",
    "\n",
    "y_coords = np.linspace(y1, y2, num=npts)\n",
    "\n",
    "x1, x2 = [-5,5]\n",
    "x_coords = np.linspace(x1, x2, num=npts)\n",
    "\n",
    "coords_lst = [[x, y, 0] for y in y_coords for x in x_coords]"
   ]
  },
  {
   "cell_type": "code",
   "execution_count": null,
   "id": "0e3db5f3",
   "metadata": {},
   "outputs": [],
   "source": [
    "data = reader.getFieldValues('rho', coords_lst, -1)"
   ]
  },
  {
   "cell_type": "code",
   "execution_count": null,
   "id": "ff6c9186",
   "metadata": {},
   "outputs": [],
   "source": [
    "data = np.array(data)\n",
    "data=data.reshape(npts,npts)"
   ]
  },
  {
   "cell_type": "code",
   "execution_count": null,
   "id": "cdd83480",
   "metadata": {},
   "outputs": [],
   "source": [
    "X, Y = np.meshgrid(x_coords, y_coords)"
   ]
  },
  {
   "cell_type": "code",
   "execution_count": null,
   "id": "9b91902f",
   "metadata": {},
   "outputs": [],
   "source": [
    "plt.pcolor(X, Y, data)"
   ]
  },
  {
   "cell_type": "code",
   "execution_count": null,
   "id": "4ae29beb",
   "metadata": {},
   "outputs": [],
   "source": [
    "# this allows you to use \"cd\" in cells to change directories instead of requiring \"%cd\"\n",
    "%automagic on\n",
    "# override IPython's default %%bash to not buffer all output\n",
    "from IPython.core.magic import register_cell_magic\n",
    "@register_cell_magic\n",
    "def bash(line, cell): get_ipython().system(cell)\n",
    "\n",
    "# this (non-default package) keeps the end of shell output in view\n",
    "try: import scrolldown\n",
    "except ModuleNotFoundError: pass\n"
   ]
  },
  {
   "cell_type": "code",
   "execution_count": null,
   "id": "c2519267",
   "metadata": {},
   "outputs": [],
   "source": [
    "%%bash\n",
    "# This is stored in $HOME_KADATH/codes/PythonTools/Example_2D.sh\n",
    "cd $HOME_KADATH/codes/PythonTools\n",
    "f=${HOME_KADATH}/codes/PythonTools/Example_id/converged_BHNS_ECC_RED.togashi.35.0.6.0.52.3.6.q0.487603.0.1.11.dat\n",
    "qf=$f\n",
    "./plot_fukaid_2D.py \\\n",
    "    --bhns \\\n",
    "    -f $f --npts 256 \\\n",
    "    --vars eps --extent -45 45 0 45 \\\n",
    "    --qvar vel --qpts 64 --qscale 0.05 \\\n",
    "    -qf $qf --cmap viridis --qcmap coolwarm \\\n",
    "    --cbar --landscape --log"
   ]
  },
  {
   "attachments": {},
   "cell_type": "markdown",
   "id": "031e0ebb",
   "metadata": {},
   "source": []
  },
  {
   "cell_type": "code",
   "execution_count": null,
   "id": "b4b4dece",
   "metadata": {},
   "outputs": [],
   "source": [
    "def show_img(path_abs):\n",
    "    img = plt.imread(path_abs)\n",
    "    plt.close('all')\n",
    "    ax = plt.gca()\n",
    "    ax.get_xaxis().set_visible(False)\n",
    "    ax.get_yaxis().set_visible(False)\n",
    "    ax.set_axis_off()\n",
    "    ax.imshow(img)"
   ]
  },
  {
   "cell_type": "code",
   "execution_count": null,
   "id": "0ef9a043",
   "metadata": {},
   "outputs": [],
   "source": [
    "show_img(pyFUKA_path+'/fig-2D.png')"
   ]
  },
  {
   "cell_type": "code",
   "execution_count": null,
   "id": "f2a3beac",
   "metadata": {},
   "outputs": [],
   "source": [
    "%%bash\n",
    "cd $pyFUKA_path\n",
    "./plot_fukaid_2D.py --help"
   ]
  },
  {
   "cell_type": "code",
   "execution_count": null,
   "id": "39b3c6ef",
   "metadata": {},
   "outputs": [],
   "source": [
    "%%bash\n",
    "# The same can be done for 1D\n",
    "cd $HOME_KADATH/codes/PythonTools\n",
    "f=${HOME_KADATH}/codes/PythonTools/Example_id/converged_BHNS_ECC_RED.togashi.35.0.6.0.52.3.6.q0.487603.0.1.11.dat\n",
    "qf=$f\n",
    "./plot_fukaid_1D.py \\\n",
    "    --bhns \\\n",
    "    -f $f --npts 256 \\\n",
    "    --vars cPsi rho P/rho --extent -45 45 --log"
   ]
  },
  {
   "cell_type": "code",
   "execution_count": null,
   "id": "a04bf1e1",
   "metadata": {},
   "outputs": [],
   "source": [
    "show_img(pyFUKA_path+'/fig-1D.png')"
   ]
  },
  {
   "cell_type": "code",
   "execution_count": null,
   "id": "40cd5974",
   "metadata": {},
   "outputs": [],
   "source": [
    "%%bash\n",
    "# The same can be done for 1D\n",
    "cd $HOME_KADATH/codes/PythonTools\n",
    "f=${HOME_KADATH}/codes/PythonTools/Example_id/converged_BHNS_ECC_RED.togashi.35.0.6.0.52.3.6.q0.487603.0.1.11.dat\n",
    "qf=$f\n",
    "./plot_fukaid_1D.py \\\n",
    "    --bhns \\\n",
    "    -f $f --npts 256 \\\n",
    "    --vars cPsi rho P/rho --extent -27.5 -7.5 --log"
   ]
  },
  {
   "cell_type": "code",
   "execution_count": null,
   "id": "53b76966",
   "metadata": {},
   "outputs": [],
   "source": [
    "show_img(pyFUKA_path+'/fig-1D.png')"
   ]
  },
  {
   "cell_type": "code",
   "execution_count": null,
   "id": "9206b873",
   "metadata": {},
   "outputs": [],
   "source": []
  }
 ],
 "metadata": {
  "kernelspec": {
   "display_name": "Python 3 (ipykernel)",
   "language": "python",
   "name": "python3"
  },
  "language_info": {
   "codemirror_mode": {
    "name": "ipython",
    "version": 3
   },
   "file_extension": ".py",
   "mimetype": "text/x-python",
   "name": "python",
   "nbconvert_exporter": "python",
   "pygments_lexer": "ipython3",
   "version": "3.10.6"
  }
 },
 "nbformat": 4,
 "nbformat_minor": 5
}
